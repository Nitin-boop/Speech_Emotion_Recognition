{
 "cells": [
  {
   "cell_type": "code",
   "execution_count": 1,
   "metadata": {
    "colab": {},
    "colab_type": "code",
    "id": "VZWf5RDrO8Ta"
   },
   "outputs": [],
   "source": [
    "import pandas as pd\n",
    "import numpy as np"
   ]
  },
  {
   "cell_type": "code",
   "execution_count": 2,
   "metadata": {
    "colab": {
     "base_uri": "https://localhost:8080/",
     "height": 170
    },
    "colab_type": "code",
    "id": "5JBkWhfnQQDt",
    "outputId": "8d719b31-f9b8-4904-9d16-4c69e1fd9027"
   },
   "outputs": [
    {
     "name": "stdout",
     "output_type": "stream",
     "text": [
      "data loaded in 2.317760705947876ms\n",
      "   Unnamed: 0           0          1          2          3          4  \\\n",
      "0        1412 -457.020355  81.258751   7.305241  13.971673   4.748030   \n",
      "1         616 -591.963379  79.925323 -13.859967  24.813215   1.600667   \n",
      "2         433 -501.659576  40.713284 -17.514589   4.574924 -11.315581   \n",
      "3        1386 -467.567017  96.385811  13.203469   1.264452  -2.169029   \n",
      "4        2105 -457.275146  73.115730   1.325024   6.624109  -5.127863   \n",
      "\n",
      "           5          6          7          8  ...        31        32  \\\n",
      "0   2.386416 -17.804949   7.331509 -18.122530  ...  2.749495  1.608627   \n",
      "1  -2.174945  -0.307895   0.184661 -11.592216  ... -2.318116 -0.817167   \n",
      "2 -12.481728 -10.657444 -16.365210 -22.086533  ...  1.789111  1.132968   \n",
      "3  12.416171 -19.648834   7.275187 -21.994888  ...  5.272318  4.856277   \n",
      "4  19.145861 -18.083393   7.655072 -23.338835  ...  0.213345  1.842694   \n",
      "\n",
      "         33        34        35        36        37         38         39  \\\n",
      "0  3.114541  3.514893  6.789743  5.434513  5.222157   8.912434   6.259008   \n",
      "1 -0.668728  3.872668  5.108366  7.323052  9.908708  12.871013  15.129208   \n",
      "2 -2.519350 -3.571312  0.709451 -0.797680 -0.349582   2.913297  10.039142   \n",
      "3  2.305879  0.959485  2.700017  4.887197  6.197365   8.913844  12.157437   \n",
      "4  3.331669  3.820842  3.682110  7.078651  7.372300  10.202867  11.351049   \n",
      "\n",
      "   emotion  \n",
      "0  disgust  \n",
      "1  neutral  \n",
      "2     fear  \n",
      "3    happy  \n",
      "4  disgust  \n",
      "\n",
      "[5 rows x 42 columns]\n"
     ]
    }
   ],
   "source": [
    "import time\n",
    "\n",
    "starting_time = time.time()\n",
    "data = pd.read_csv('RAVTESS_MFCC_Observed.csv')\n",
    "print(\"data loaded in \" + str(time.time()-starting_time) + \"ms\")\n",
    "\n",
    "print(data.head())"
   ]
  },
  {
   "cell_type": "code",
   "execution_count": 3,
   "metadata": {
    "colab": {
     "base_uri": "https://localhost:8080/",
     "height": 34
    },
    "colab_type": "code",
    "id": "Gnn24ErtQXIM",
    "outputId": "710ff011-0a32-4050-e7d5-fb9fd820e34e"
   },
   "outputs": [
    {
     "data": {
      "text/plain": [
       "(3812, 42)"
      ]
     },
     "execution_count": 3,
     "metadata": {},
     "output_type": "execute_result"
    }
   ],
   "source": [
    "data.shape"
   ]
  },
  {
   "cell_type": "code",
   "execution_count": 4,
   "metadata": {
    "colab": {
     "base_uri": "https://localhost:8080/",
     "height": 102
    },
    "colab_type": "code",
    "id": "6UlGjAhtlhl2",
    "outputId": "5146eb7a-e950-416c-d28e-412f40cb7313"
   },
   "outputs": [
    {
     "data": {
      "text/plain": [
       "Index(['Unnamed: 0', '0', '1', '2', '3', '4', '5', '6', '7', '8', '9', '10',\n",
       "       '11', '12', '13', '14', '15', '16', '17', '18', '19', '20', '21', '22',\n",
       "       '23', '24', '25', '26', '27', '28', '29', '30', '31', '32', '33', '34',\n",
       "       '35', '36', '37', '38', '39', 'emotion'],\n",
       "      dtype='object')"
      ]
     },
     "execution_count": 4,
     "metadata": {},
     "output_type": "execute_result"
    }
   ],
   "source": [
    "#printing all columns\n",
    "data.columns"
   ]
  },
  {
   "cell_type": "code",
   "execution_count": 5,
   "metadata": {
    "colab": {},
    "colab_type": "code",
    "id": "7T9PgDj1luY1"
   },
   "outputs": [],
   "source": [
    "#dropping the column Unnamed: 0 to removed shuffled index\n",
    "data = data.drop('Unnamed: 0',axis=1)"
   ]
  },
  {
   "cell_type": "code",
   "execution_count": 6,
   "metadata": {
    "colab": {
     "base_uri": "https://localhost:8080/",
     "height": 102
    },
    "colab_type": "code",
    "id": "9XYzHT00l1vu",
    "outputId": "b0b2da96-31af-430b-cc33-6038c9348681"
   },
   "outputs": [
    {
     "data": {
      "text/plain": [
       "Index(['0', '1', '2', '3', '4', '5', '6', '7', '8', '9', '10', '11', '12',\n",
       "       '13', '14', '15', '16', '17', '18', '19', '20', '21', '22', '23', '24',\n",
       "       '25', '26', '27', '28', '29', '30', '31', '32', '33', '34', '35', '36',\n",
       "       '37', '38', '39', 'emotion'],\n",
       "      dtype='object')"
      ]
     },
     "execution_count": 6,
     "metadata": {},
     "output_type": "execute_result"
    }
   ],
   "source": [
    "data.columns"
   ]
  },
  {
   "cell_type": "code",
   "execution_count": 7,
   "metadata": {
    "colab": {},
    "colab_type": "code",
    "id": "dFz_djRCj8-7"
   },
   "outputs": [],
   "source": [
    "#separating features and target outputs\n",
    "X = data.drop('emotion', axis = 1).values\n",
    "y = data['emotion'].values"
   ]
  },
  {
   "cell_type": "markdown",
   "metadata": {
    "colab_type": "text",
    "id": "gmyFS7Ajj4PZ"
   },
   "source": [
    "## SVM\n",
    "\n",
    "Implementing SVM with Scikit-Learn"
   ]
  },
  {
   "cell_type": "code",
   "execution_count": 8,
   "metadata": {},
   "outputs": [],
   "source": [
    "import joblib"
   ]
  },
  {
   "cell_type": "code",
   "execution_count": 9,
   "metadata": {
    "colab": {},
    "colab_type": "code",
    "id": "pq5mN2XzkAj_"
   },
   "outputs": [],
   "source": [
    "import pandas as pd\n",
    "import numpy as np\n",
    "import matplotlib.pyplot as plt\n",
    "%matplotlib inline"
   ]
  },
  {
   "cell_type": "code",
   "execution_count": 10,
   "metadata": {
    "colab": {
     "base_uri": "https://localhost:8080/",
     "height": 34
    },
    "colab_type": "code",
    "id": "4j5u2-2YkEce",
    "outputId": "58c5c4ce-99a2-41f8-b9e5-01843cf363ac"
   },
   "outputs": [
    {
     "data": {
      "text/plain": [
       "((3812, 40), (3812,))"
      ]
     },
     "execution_count": 10,
     "metadata": {},
     "output_type": "execute_result"
    }
   ],
   "source": [
    "X.shape, y.shape"
   ]
  },
  {
   "cell_type": "code",
   "execution_count": 11,
   "metadata": {
    "colab": {
     "base_uri": "https://localhost:8080/",
     "height": 51
    },
    "colab_type": "code",
    "id": "rzaQWvXjkG6a",
    "outputId": "b2e2158e-d00b-4341-c2dd-b1fd2a8b2200"
   },
   "outputs": [
    {
     "data": {
      "text/plain": [
       "array(['angry', 'calm', 'disgust', 'fear', 'happy', 'neutral', 'sad',\n",
       "       'surprised'], dtype=object)"
      ]
     },
     "execution_count": 11,
     "metadata": {},
     "output_type": "execute_result"
    }
   ],
   "source": [
    "np.unique(y)"
   ]
  },
  {
   "cell_type": "markdown",
   "metadata": {
    "colab_type": "text",
    "id": "qFIOIBCmkOof"
   },
   "source": [
    "X variable contains attributes while y variable contains corresponding labels.\n",
    "\n",
    "Once the data is divided into attributes and labels, the final preprocessing step is to divide data into training and test sets. The model_selection library of the Scikit-Learn library contains the train_test_split method that allows us to divide data into training and test sets."
   ]
  },
  {
   "cell_type": "code",
   "execution_count": 12,
   "metadata": {
    "colab": {},
    "colab_type": "code",
    "id": "y-rWEbnjkI3z"
   },
   "outputs": [],
   "source": [
    "from sklearn.model_selection import train_test_split\n",
    "\n",
    "X_train, X_test, y_train, y_test = train_test_split(X, y, test_size = 0.20)"
   ]
  },
  {
   "cell_type": "markdown",
   "metadata": {
    "colab_type": "text",
    "id": "2jBVxf-ZkTSd"
   },
   "source": [
    "It is the time to train our SVM on the training data. Scikit-Learn contains the svm library, which contains built-in classes for different SVM algorithms. Since we are going to perform a classification task, we will use the support vector classifier class, which is written as SVC in the Scikit-Learn's svm library. We have set the kernel to linear."
   ]
  },
  {
   "cell_type": "code",
   "execution_count": 13,
   "metadata": {
    "colab": {},
    "colab_type": "code",
    "id": "viKFlbezkSll"
   },
   "outputs": [],
   "source": [
    "from sklearn.svm import SVC\n",
    "\n",
    "svclassifier = SVC(kernel = 'linear')"
   ]
  },
  {
   "cell_type": "markdown",
   "metadata": {
    "colab_type": "text",
    "id": "obFMZPWqIs3C"
   },
   "source": [
    "The fit method of SVC class is called to train the algorithm on the training data, which is passed as a parameter to the fit method. Execute the following code to train the algorithm:"
   ]
  },
  {
   "cell_type": "code",
   "execution_count": 14,
   "metadata": {
    "colab": {},
    "colab_type": "code",
    "id": "LZnkHUkZkX1A"
   },
   "outputs": [
    {
     "name": "stdout",
     "output_type": "stream",
     "text": [
      "Trained model in 14.33010983467102 ms \n"
     ]
    }
   ],
   "source": [
    "import time\n",
    "\n",
    "starting_time = time.time()\n",
    "svclassifier.fit(X_train, y_train)\n",
    "print(\"Trained model in %s ms \" % str(time.time() - starting_time))"
   ]
  },
  {
   "cell_type": "markdown",
   "metadata": {
    "colab_type": "text",
    "id": "KXvzYeXYkaMb"
   },
   "source": [
    "To make predictions, the predict method of the SVC class is used."
   ]
  },
  {
   "cell_type": "code",
   "execution_count": 15,
   "metadata": {
    "colab": {},
    "colab_type": "code",
    "id": "pUad4lXgkdZR"
   },
   "outputs": [],
   "source": [
    "y_pred = svclassifier.predict(X_test)"
   ]
  },
  {
   "cell_type": "markdown",
   "metadata": {
    "colab_type": "text",
    "id": "dRd8zm49kfwn"
   },
   "source": [
    "Confusion matrix, precision, recall, and F1 measures are the most commonly used metrics for classification tasks. Scikit-Learn's metrics library contains the classification_report and confusion_matrix methods, which can be readily used to find out the values for these important metrics.\n",
    "We have used the following code for finding these metrics:"
   ]
  },
  {
   "cell_type": "code",
   "execution_count": 16,
   "metadata": {
    "colab": {},
    "colab_type": "code",
    "id": "6qfbWKKzku_Z"
   },
   "outputs": [
    {
     "name": "stdout",
     "output_type": "stream",
     "text": [
      "              precision    recall  f1-score   support\n",
      "\n",
      "       angry       0.81      0.90      0.85       107\n",
      "        calm       0.80      0.89      0.85        37\n",
      "     disgust       0.92      0.97      0.94        68\n",
      "        fear       0.84      0.82      0.83       114\n",
      "       happy       0.85      0.77      0.81       127\n",
      "     neutral       0.97      0.95      0.96       104\n",
      "         sad       0.89      0.88      0.89       111\n",
      "   surprised       0.99      0.97      0.98        95\n",
      "\n",
      "    accuracy                           0.89       763\n",
      "   macro avg       0.88      0.89      0.89       763\n",
      "weighted avg       0.89      0.89      0.89       763\n",
      "\n",
      "----accuracy score 88.59764089121887 ----\n"
     ]
    },
    {
     "data": {
      "image/png": "[encoded data removed]",
      "text/plain": [
       "<Figure size 432x288 with 2 Axes>"
      ]
     },
     "metadata": {
      "needs_background": "light"
     },
     "output_type": "display_data"
    }
   ],
   "source": [
    "from sklearn.metrics import classification_report, confusion_matrix,accuracy_score\n",
    "import seaborn as sn\n",
    "\n",
    "print(classification_report(y_test,y_pred))\n",
    "\n",
    "acc = float(accuracy_score(y_test,y_pred))*100\n",
    "print(\"----accuracy score %s ----\" % acc)\n",
    "\n",
    "cm = confusion_matrix(y_test,y_pred)\n",
    "df_cm = pd.DataFrame(cm)\n",
    "sn.heatmap(df_cm, annot=True, fmt='')\n",
    "plt.show()"
   ]
  },
  {
   "cell_type": "markdown",
   "metadata": {
    "colab_type": "text",
    "id": "XADzC5Cbkx6a"
   },
   "source": [
    "Now by calculating the training accuracy and comparing with testing accuracy, we can check for overfitting of data"
   ]
  },
  {
   "cell_type": "code",
   "execution_count": 17,
   "metadata": {
    "colab": {},
    "colab_type": "code",
    "id": "cPupL1MfjMVQ"
   },
   "outputs": [
    {
     "name": "stdout",
     "output_type": "stream",
     "text": [
      "----train accuracy score 94.35880616595605 ----\n",
      "----test accuracy score 88.59764089121887 ----\n"
     ]
    }
   ],
   "source": [
    "train_acc = float(svclassifier.score(X_train, y_train)*100)\n",
    "print(\"----train accuracy score %s ----\" % train_acc)\n",
    "\n",
    "test_acc = float(svclassifier.score(X_test, y_test)*100)\n",
    "print(\"----test accuracy score %s ----\" % test_acc)"
   ]
  },
  {
   "cell_type": "markdown",
   "metadata": {
    "colab_type": "text",
    "id": "0kWl4SbrtiUP"
   },
   "source": [
    "## Cross-Validation"
   ]
  },
  {
   "cell_type": "markdown",
   "metadata": {
    "colab_type": "text",
    "id": "SIsvihdMJDYO"
   },
   "source": [
    "5-fold cross validation of the dataset with the SVC classifier."
   ]
  },
  {
   "cell_type": "code",
   "execution_count": 18,
   "metadata": {
    "colab": {},
    "colab_type": "code",
    "id": "K8JwrWJ_k6qN"
   },
   "outputs": [
    {
     "name": "stdout",
     "output_type": "stream",
     "text": [
      "[0.87942333 0.88728702 0.90419948 0.9015748  0.89895013]\n"
     ]
    }
   ],
   "source": [
    "from sklearn.model_selection import cross_val_score\n",
    "\n",
    "# no. of folds cv = 5\n",
    "cv_results = cross_val_score(svclassifier, X, y, cv = 5)\n",
    "print(cv_results)"
   ]
  },
  {
   "cell_type": "markdown",
   "metadata": {
    "colab_type": "text",
    "id": "1x2ICDUKtows"
   },
   "source": [
    "## Scaling \n",
    "\n",
    "When performing the linear SVM classification, it is often helpful to normalize the training data, for example by subtracting the mean and dividing by the standard deviation, and afterwards scale the test data with the mean and standard deviation of training data."
   ]
  },
  {
   "cell_type": "code",
   "execution_count": 19,
   "metadata": {
    "colab": {
     "base_uri": "https://localhost:8080/",
     "height": 51
    },
    "colab_type": "code",
    "id": "OKhK1aW_trnZ",
    "outputId": "c1cf528c-cbb1-4760-d5c1-edf7651a12c0"
   },
   "outputs": [
    {
     "name": "stdout",
     "output_type": "stream",
     "text": [
      "Accuracy with Scaling: 0.963302752293578\n",
      "Accuracy without Scaling: 0.8925294888597641\n"
     ]
    }
   ],
   "source": [
    "from sklearn.model_selection import train_test_split\n",
    "from sklearn.preprocessing import StandardScaler\n",
    "from sklearn.pipeline import Pipeline\n",
    "from sklearn.svm import SVC\n",
    "\n",
    "\n",
    "#splitting dataset into train/ test sets\n",
    "X_train, X_test, y_train, y_test = train_test_split(X, y, test_size = 0.20)\n",
    "\n",
    "# Setup the pipeline steps: steps\n",
    "steps = [('scaler', StandardScaler()),\n",
    "        ('SVM', SVC())]\n",
    "        \n",
    "# Create the pipeline: pipeline\n",
    "pipeline = Pipeline(steps)\n",
    "\n",
    "# Fit the pipeline to the training set: svc_scaled\n",
    "svc_scaled = pipeline.fit(X_train, y_train)\n",
    "\n",
    "# Instantiate and fit a classifier to the unscaled data\n",
    "svc_unscaled = SVC(kernel = 'linear').fit(X_train, y_train)\n",
    "\n",
    "# Compute and print metrics\n",
    "print('Accuracy with Scaling: {}'.format(svc_scaled.score(X_test, y_test)))\n",
    "print('Accuracy without Scaling: {}'.format(svc_unscaled.score(X_test, y_test)))\n"
   ]
  },
  {
   "cell_type": "markdown",
   "metadata": {
    "colab_type": "text",
    "id": "9bxO_NYuUJpN"
   },
   "source": [
    "### Generalization check\n",
    "Checking for overfitting or underfitting by comparing the training and testing scores of the model"
   ]
  },
  {
   "cell_type": "code",
   "execution_count": 20,
   "metadata": {
    "colab": {
     "base_uri": "https://localhost:8080/",
     "height": 51
    },
    "colab_type": "code",
    "id": "Ve1e2yVBivNT",
    "outputId": "46e085fa-7fe4-4a7b-da55-542f2d463c07"
   },
   "outputs": [
    {
     "name": "stdout",
     "output_type": "stream",
     "text": [
      "----train accuracy score 97.83535585437848 ----\n",
      "----test accuracy score 96.3302752293578 ----\n"
     ]
    }
   ],
   "source": [
    "train_acc = float(svc_scaled.score(X_train, y_train)*100)\n",
    "print(\"----train accuracy score %s ----\" % train_acc)\n",
    "\n",
    "test_acc = float(svc_scaled.score(X_test, y_test)*100)\n",
    "print(\"----test accuracy score %s ----\" % test_acc)"
   ]
  },
  {
   "cell_type": "code",
   "execution_count": 21,
   "metadata": {
    "colab": {},
    "colab_type": "code",
    "id": "JkMV4nVo2MBi"
   },
   "outputs": [],
   "source": [
    "scaled_predictions = svc_scaled.predict(X_test)"
   ]
  },
  {
   "cell_type": "markdown",
   "metadata": {
    "colab_type": "text",
    "id": "r_56D7h6WkOE"
   },
   "source": [
    "### Classification reports and Confusion Matrix"
   ]
  },
  {
   "cell_type": "code",
   "execution_count": 22,
   "metadata": {
    "colab": {
     "base_uri": "https://localhost:8080/",
     "height": 540
    },
    "colab_type": "code",
    "id": "oROt3FvXwMHK",
    "outputId": "58d34e5c-73fd-4f9e-fb52-9f7729523c5e"
   },
   "outputs": [
    {
     "name": "stdout",
     "output_type": "stream",
     "text": [
      "              precision    recall  f1-score   support\n",
      "\n",
      "       angry       0.96      0.98      0.97       123\n",
      "        calm       0.92      0.94      0.93        36\n",
      "     disgust       1.00      1.00      1.00        81\n",
      "        fear       0.93      0.89      0.91       118\n",
      "       happy       0.97      0.97      0.97       107\n",
      "     neutral       1.00      1.00      1.00       102\n",
      "         sad       0.92      0.94      0.93       117\n",
      "   surprised       1.00      1.00      1.00        79\n",
      "\n",
      "    accuracy                           0.96       763\n",
      "   macro avg       0.96      0.97      0.96       763\n",
      "weighted avg       0.96      0.96      0.96       763\n",
      "\n",
      "----accuracy score 96.3302752293578 ----\n"
     ]
    },
    {
     "data": {
      "image/png": "[encoded data removed]",
      "text/plain": [
       "<Figure size 432x288 with 2 Axes>"
      ]
     },
     "metadata": {
      "needs_background": "light"
     },
     "output_type": "display_data"
    }
   ],
   "source": [
    "from sklearn.metrics import classification_report, confusion_matrix,accuracy_score\n",
    "import seaborn as sn\n",
    "\n",
    "print(classification_report(y_test,scaled_predictions))\n",
    "\n",
    "acc = float(accuracy_score(y_test,scaled_predictions))*100\n",
    "print(\"----accuracy score %s ----\" % acc)\n",
    "\n",
    "cm = confusion_matrix(y_test,scaled_predictions)\n",
    "df_cm = pd.DataFrame(cm)\n",
    "sn.heatmap(df_cm, annot=True, fmt='')\n",
    "plt.show()"
   ]
  },
  {
   "cell_type": "markdown",
   "metadata": {
    "colab_type": "text",
    "id": "k7ay4Mx3WvIN"
   },
   "source": [
    "#### Cross Validation"
   ]
  },
  {
   "cell_type": "code",
   "execution_count": 23,
   "metadata": {
    "colab": {
     "base_uri": "https://localhost:8080/",
     "height": 34
    },
    "colab_type": "code",
    "id": "Yqo9QIL82ez-",
    "outputId": "ba6f2c4f-432d-42fe-f758-21e93bf9cb60"
   },
   "outputs": [
    {
     "name": "stdout",
     "output_type": "stream",
     "text": [
      "[0.95150721 0.96592398 0.95406824 0.97375328 0.97244094]\n"
     ]
    }
   ],
   "source": [
    "from sklearn.model_selection import cross_val_score\n",
    "\n",
    "# no. of folds cv = 5\n",
    "cv_results = cross_val_score(svc_scaled, X, y, cv = 5)\n",
    "print(cv_results)"
   ]
  },
  {
   "cell_type": "code",
   "execution_count": null,
   "metadata": {},
   "outputs": [],
   "source": [
    "import librosa,"
   ]
  }
 ],
 "metadata": {
  "colab": {
   "collapsed_sections": [
    "gmyFS7Ajj4PZ",
    "0kWl4SbrtiUP"
   ],
   "name": "SER-SVM.ipynb",
   "provenance": []
  },
  "kernelspec": {
   "display_name": "Python 3",
   "language": "python",
   "name": "python3"
  },
  "language_info": {
   "codemirror_mode": {
    "name": "ipython",
    "version": 3
   },
   "file_extension": ".py",
   "mimetype": "text/x-python",
   "name": "python",
   "nbconvert_exporter": "python",
   "pygments_lexer": "ipython3",
   "version": "3.8.5"
  }
 },
 "nbformat": 4,
 "nbformat_minor": 1
}
